{
 "cells": [
  {
   "cell_type": "code",
   "execution_count": 1,
   "metadata": {},
   "outputs": [],
   "source": [
    "import torch \n",
    "from dataset import CocoImage\n",
    "from model import CLIP,FLIPImageEncoder\n"
   ]
  },
  {
   "cell_type": "code",
   "execution_count": 14,
   "metadata": {},
   "outputs": [],
   "source": [
    "coco_image   = CocoImage()\n",
    "images       = [coco_image[i] for i in range(2)]\n",
    "\n",
    "def profile_flip():\n",
    "    flip         = CLIP(image_backend=FLIPImageEncoder)\n",
    "    with torch.autograd.profiler.profile(enabled=True, use_cuda=False, record_shapes=False, profile_memory=False, with_stack=True) as prof:\n",
    "        flip.image_encode(images)\n",
    "    return prof.key_averages(group_by_stack_n=5).table(sort_by=\"cpu_time_total\", row_limit=10)\n",
    "def profile_clip():\n",
    "    clip = CLIP()\n",
    "    with torch.autograd.profiler.profile(enabled=True, use_cuda=False, record_shapes=True, profile_memory=True) as prof:\n",
    "        clip.image_encode(images)\n",
    "    return prof.key_averages().table(sort_by=\"cpu_time_total\", row_limit=10)"
   ]
  },
  {
   "cell_type": "code",
   "execution_count": 15,
   "metadata": {},
   "outputs": [
    {
     "name": "stderr",
     "output_type": "stream",
     "text": [
      "ftfy or spacy is not installed using BERT BasicTokenizer instead of ftfy.\n"
     ]
    },
    {
     "name": "stdout",
     "output_type": "stream",
     "text": [
      "-----------------------------  ------------  ------------  ------------  ------------  ------------  ------------  ---------------------------------------------------------------------------  \n",
      "                         Name    Self CPU %      Self CPU   CPU total %     CPU total  CPU time avg    # of Calls  Source Location                                                              \n",
      "-----------------------------  ------------  ------------  ------------  ------------  ------------  ------------  ---------------------------------------------------------------------------  \n",
      "                 aten::linear         0.73%       1.947ms        15.94%      42.329ms       3.527ms            12  d:\\Software\\Conda\\lib\\site-packages\\torch\\nn\\functional.py(1847): linear     \n",
      "                                                                                                                   d:\\Software\\Conda\\lib\\site-packages\\torch\\nn\\modules\\linear.py(96): forward  \n",
      "                                                                                                                   ...are\\Conda\\lib\\site-packages\\torch\\nn\\modules\\module.py(1051): _call_impl  \n",
      "                                                                                                                   ...ib\\site-packages\\transformers\\models\\clip\\modeling_clip.py(278): forward  \n",
      "                                                                                                                   ...are\\Conda\\lib\\site-packages\\torch\\nn\\modules\\module.py(1051): _call_impl  \n",
      "                                                                                                                                                                                                \n",
      "                 aten::linear         0.50%       1.333ms        15.70%      41.707ms       3.476ms            12  d:\\Software\\Conda\\lib\\site-packages\\torch\\nn\\functional.py(1847): linear     \n",
      "                                                                                                                   d:\\Software\\Conda\\lib\\site-packages\\torch\\nn\\modules\\linear.py(96): forward  \n",
      "                                                                                                                   ...are\\Conda\\lib\\site-packages\\torch\\nn\\modules\\module.py(1051): _call_impl  \n",
      "                                                                                                                   ...ib\\site-packages\\transformers\\models\\clip\\modeling_clip.py(280): forward  \n",
      "                                                                                                                   ...are\\Conda\\lib\\site-packages\\torch\\nn\\modules\\module.py(1051): _call_impl  \n",
      "                                                                                                                                                                                                \n",
      "                 aten::matmul         3.51%       9.328ms        13.23%      35.130ms       2.928ms            12  d:\\Software\\Conda\\lib\\site-packages\\torch\\nn\\functional.py(1847): linear     \n",
      "                                                                                                                   d:\\Software\\Conda\\lib\\site-packages\\torch\\nn\\modules\\linear.py(96): forward  \n",
      "                                                                                                                   ...are\\Conda\\lib\\site-packages\\torch\\nn\\modules\\module.py(1051): _call_impl  \n",
      "                                                                                                                   ...ib\\site-packages\\transformers\\models\\clip\\modeling_clip.py(278): forward  \n",
      "                                                                                                                   ...are\\Conda\\lib\\site-packages\\torch\\nn\\modules\\module.py(1051): _call_impl  \n",
      "                                                                                                                                                                                                \n",
      "                 aten::matmul         0.59%       1.569ms        13.20%      35.065ms       2.922ms            12  d:\\Software\\Conda\\lib\\site-packages\\torch\\nn\\functional.py(1847): linear     \n",
      "                                                                                                                   d:\\Software\\Conda\\lib\\site-packages\\torch\\nn\\modules\\linear.py(96): forward  \n",
      "                                                                                                                   ...are\\Conda\\lib\\site-packages\\torch\\nn\\modules\\module.py(1051): _call_impl  \n",
      "                                                                                                                   ...ib\\site-packages\\transformers\\models\\clip\\modeling_clip.py(280): forward  \n",
      "                                                                                                                   ...are\\Conda\\lib\\site-packages\\torch\\nn\\modules\\module.py(1051): _call_impl  \n",
      "                                                                                                                                                                                                \n",
      "                     aten::mm        10.24%      27.193ms        10.76%      28.572ms       2.381ms            12  d:\\Software\\Conda\\lib\\site-packages\\torch\\nn\\functional.py(1847): linear     \n",
      "                                                                                                                   d:\\Software\\Conda\\lib\\site-packages\\torch\\nn\\modules\\linear.py(96): forward  \n",
      "                                                                                                                   ...are\\Conda\\lib\\site-packages\\torch\\nn\\modules\\module.py(1051): _call_impl  \n",
      "                                                                                                                   ...ib\\site-packages\\transformers\\models\\clip\\modeling_clip.py(280): forward  \n",
      "                                                                                                                   ...are\\Conda\\lib\\site-packages\\torch\\nn\\modules\\module.py(1051): _call_impl  \n",
      "                                                                                                                                                                                                \n",
      "                 aten::linear         0.37%     978.100us         8.60%      22.838ms       1.903ms            12  d:\\Software\\Conda\\lib\\site-packages\\torch\\nn\\functional.py(1847): linear     \n",
      "                                                                                                                   d:\\Software\\Conda\\lib\\site-packages\\torch\\nn\\modules\\linear.py(96): forward  \n",
      "                                                                                                                   ...are\\Conda\\lib\\site-packages\\torch\\nn\\modules\\module.py(1051): _call_impl  \n",
      "                                                                                                                   ...ib\\site-packages\\transformers\\models\\clip\\modeling_clip.py(206): forward  \n",
      "                                                                                                                   ...are\\Conda\\lib\\site-packages\\torch\\nn\\modules\\module.py(1051): _call_impl  \n",
      "                                                                                                                                                                                                \n",
      "                     aten::mm         7.41%      19.682ms         7.83%      20.811ms       1.734ms            12  d:\\Software\\Conda\\lib\\site-packages\\torch\\nn\\functional.py(1847): linear     \n",
      "                                                                                                                   d:\\Software\\Conda\\lib\\site-packages\\torch\\nn\\modules\\linear.py(96): forward  \n",
      "                                                                                                                   ...are\\Conda\\lib\\site-packages\\torch\\nn\\modules\\module.py(1051): _call_impl  \n",
      "                                                                                                                   ...ib\\site-packages\\transformers\\models\\clip\\modeling_clip.py(278): forward  \n",
      "                                                                                                                   ...are\\Conda\\lib\\site-packages\\torch\\nn\\modules\\module.py(1051): _call_impl  \n",
      "                                                                                                                                                                                                \n",
      "                 aten::linear         0.63%       1.663ms         7.81%      20.734ms       1.728ms            12  d:\\Software\\Conda\\lib\\site-packages\\torch\\nn\\functional.py(1847): linear     \n",
      "                                                                                                                   d:\\Software\\Conda\\lib\\site-packages\\torch\\nn\\modules\\linear.py(96): forward  \n",
      "                                                                                                                   ...are\\Conda\\lib\\site-packages\\torch\\nn\\modules\\module.py(1051): _call_impl  \n",
      "                                                                                                                   ...ib\\site-packages\\transformers\\models\\clip\\modeling_clip.py(205): forward  \n",
      "                                                                                                                   ...are\\Conda\\lib\\site-packages\\torch\\nn\\modules\\module.py(1051): _call_impl  \n",
      "                                                                                                                                                                                                \n",
      "                 aten::linear         0.38%       1.020ms         6.66%      17.692ms       1.474ms            12  d:\\Software\\Conda\\lib\\site-packages\\torch\\nn\\functional.py(1847): linear     \n",
      "                                                                                                                   d:\\Software\\Conda\\lib\\site-packages\\torch\\nn\\modules\\linear.py(96): forward  \n",
      "                                                                                                                   ...are\\Conda\\lib\\site-packages\\torch\\nn\\modules\\module.py(1051): _call_impl  \n",
      "                                                                                                                   ...ib\\site-packages\\transformers\\models\\clip\\modeling_clip.py(207): forward  \n",
      "                                                                                                                   ...are\\Conda\\lib\\site-packages\\torch\\nn\\modules\\module.py(1051): _call_impl  \n",
      "                                                                                                                                                                                                \n",
      "                 aten::matmul         2.72%       7.215ms         6.56%      17.426ms       1.452ms            12  d:\\Software\\Conda\\lib\\site-packages\\torch\\nn\\functional.py(1847): linear     \n",
      "                                                                                                                   d:\\Software\\Conda\\lib\\site-packages\\torch\\nn\\modules\\linear.py(96): forward  \n",
      "                                                                                                                   ...are\\Conda\\lib\\site-packages\\torch\\nn\\modules\\module.py(1051): _call_impl  \n",
      "                                                                                                                   ...ib\\site-packages\\transformers\\models\\clip\\modeling_clip.py(206): forward  \n",
      "                                                                                                                   ...are\\Conda\\lib\\site-packages\\torch\\nn\\modules\\module.py(1051): _call_impl  \n",
      "                                                                                                                                                                                                \n",
      "-----------------------------  ------------  ------------  ------------  ------------  ------------  ------------  ---------------------------------------------------------------------------  \n",
      "Self CPU time total: 265.623ms\n",
      "\n"
     ]
    }
   ],
   "source": [
    "print(profile_flip())"
   ]
  },
  {
   "cell_type": "code",
   "execution_count": 13,
   "metadata": {},
   "outputs": [
    {
     "name": "stderr",
     "output_type": "stream",
     "text": [
      "ftfy or spacy is not installed using BERT BasicTokenizer instead of ftfy.\n"
     ]
    },
    {
     "name": "stdout",
     "output_type": "stream",
     "text": [
      "----------------------------  ------------  ------------  ------------  ------------  ------------  ------------  ------------  ------------  \n",
      "                        Name    Self CPU %      Self CPU   CPU total %     CPU total  CPU time avg       CPU Mem  Self CPU Mem    # of Calls  \n",
      "----------------------------  ------------  ------------  ------------  ------------  ------------  ------------  ------------  ------------  \n",
      "                aten::linear         0.79%       1.429ms        72.46%     131.692ms       1.804ms      31.64 Mb           0 b            73  \n",
      "                aten::matmul         1.59%       2.894ms        66.23%     120.357ms       1.649ms      31.64 Mb           0 b            73  \n",
      "                    aten::mm        63.07%     114.624ms        63.57%     115.536ms       1.583ms      31.64 Mb           0 b            73  \n",
      "               aten::sigmoid         4.92%       8.932ms         4.92%       8.932ms     744.358us      14.06 Mb      14.06 Mb            12  \n",
      "                  aten::add_         4.45%       8.090ms         4.45%       8.090ms     112.361us           0 b           0 b            72  \n",
      "                   aten::mul         3.50%       6.367ms         3.92%       7.120ms     197.781us      31.64 Mb      31.64 Mb            36  \n",
      "            aten::layer_norm         0.19%     352.500us         3.10%       5.641ms     216.950us       7.33 Mb     -19.55 Kb            26  \n",
      "     aten::native_layer_norm         1.85%       3.358ms         2.91%       5.288ms     203.392us       7.35 Mb      -6.00 Kb            26  \n",
      "               aten::reshape         1.84%       3.337ms         2.68%       4.869ms     374.531us       3.52 Mb           0 b            13  \n",
      "                aten::conv2d         0.00%       8.700us         2.61%       4.746ms       4.746ms     294.00 Kb           0 b             1  \n",
      "----------------------------  ------------  ------------  ------------  ------------  ------------  ------------  ------------  ------------  \n",
      "Self CPU time total: 181.733ms\n",
      "\n"
     ]
    }
   ],
   "source": [
    "print(profile_clip())"
   ]
  }
 ],
 "metadata": {
  "kernelspec": {
   "display_name": "Python 3.8.5 ('base')",
   "language": "python",
   "name": "python3"
  },
  "language_info": {
   "codemirror_mode": {
    "name": "ipython",
    "version": 3
   },
   "file_extension": ".py",
   "mimetype": "text/x-python",
   "name": "python",
   "nbconvert_exporter": "python",
   "pygments_lexer": "ipython3",
   "version": "3.8.5"
  },
  "orig_nbformat": 4,
  "vscode": {
   "interpreter": {
    "hash": "c059f2b875842476053c6b0cc88b8428d3db2b25f1539d42eb93fc2e108d9216"
   }
  }
 },
 "nbformat": 4,
 "nbformat_minor": 2
}
